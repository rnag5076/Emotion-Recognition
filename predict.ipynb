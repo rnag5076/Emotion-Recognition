{
 "cells": [
  {
   "cell_type": "markdown",
   "metadata": {
    "colab_type": "text",
    "id": "WV8YAojBcnO2"
   },
   "source": [
    "# Detecting faces and cropping image to get face"
   ]
  },
  {
   "cell_type": "code",
   "execution_count": 1,
   "metadata": {
    "colab": {
     "base_uri": "https://localhost:8080/",
     "height": 179
    },
    "colab_type": "code",
    "id": "C5QLuaJGuJe6",
    "outputId": "ad2f6646-4736-4820-c5d2-62b4da32d09e"
   },
   "outputs": [
    {
     "ename": "FileNotFoundError",
     "evalue": "[Errno 2] No such file or directory: 'surprise.jpg'",
     "output_type": "error",
     "traceback": [
      "\u001b[1;31m---------------------------------------------------------------------------\u001b[0m",
      "\u001b[1;31mFileNotFoundError\u001b[0m                         Traceback (most recent call last)",
      "\u001b[1;32m<ipython-input-1-25798f8cbb28>\u001b[0m in \u001b[0;36m<module>\u001b[1;34m()\u001b[0m\n\u001b[0;32m      6\u001b[0m \u001b[1;32mfrom\u001b[0m \u001b[0mIPython\u001b[0m\u001b[1;33m.\u001b[0m\u001b[0mdisplay\u001b[0m \u001b[1;32mimport\u001b[0m \u001b[0mdisplay\u001b[0m\u001b[1;33m\u001b[0m\u001b[0m\n\u001b[0;32m      7\u001b[0m \u001b[1;33m\u001b[0m\u001b[0m\n\u001b[1;32m----> 8\u001b[1;33m \u001b[0mimg\u001b[0m \u001b[1;33m=\u001b[0m \u001b[0mImage\u001b[0m\u001b[1;33m.\u001b[0m\u001b[0mopen\u001b[0m\u001b[1;33m(\u001b[0m\u001b[1;34m\"surprise.jpg\"\u001b[0m\u001b[1;33m)\u001b[0m\u001b[1;33m\u001b[0m\u001b[0m\n\u001b[0m\u001b[0;32m      9\u001b[0m \u001b[0mface_cascade\u001b[0m \u001b[1;33m=\u001b[0m \u001b[0mcv2\u001b[0m\u001b[1;33m.\u001b[0m\u001b[0mCascadeClassifier\u001b[0m\u001b[1;33m(\u001b[0m\u001b[1;34m'haarcascade_frontalface_default.xml'\u001b[0m\u001b[1;33m)\u001b[0m\u001b[1;33m\u001b[0m\u001b[0m\n\u001b[0;32m     10\u001b[0m \u001b[0mfaces\u001b[0m \u001b[1;33m=\u001b[0m \u001b[0mface_cascade\u001b[0m\u001b[1;33m.\u001b[0m\u001b[0mdetectMultiScale\u001b[0m\u001b[1;33m(\u001b[0m\u001b[0mnp\u001b[0m\u001b[1;33m.\u001b[0m\u001b[0masarray\u001b[0m\u001b[1;33m(\u001b[0m\u001b[0mimg\u001b[0m\u001b[1;33m)\u001b[0m\u001b[1;33m,\u001b[0m \u001b[1;36m1.3\u001b[0m\u001b[1;33m,\u001b[0m \u001b[1;36m5\u001b[0m\u001b[1;33m)\u001b[0m\u001b[1;33m\u001b[0m\u001b[0m\n",
      "\u001b[1;32mc:\\python37\\lib\\site-packages\\PIL\\Image.py\u001b[0m in \u001b[0;36mopen\u001b[1;34m(fp, mode)\u001b[0m\n\u001b[0;32m   2546\u001b[0m \u001b[1;33m\u001b[0m\u001b[0m\n\u001b[0;32m   2547\u001b[0m     \u001b[1;32mif\u001b[0m \u001b[0mfilename\u001b[0m\u001b[1;33m:\u001b[0m\u001b[1;33m\u001b[0m\u001b[0m\n\u001b[1;32m-> 2548\u001b[1;33m         \u001b[0mfp\u001b[0m \u001b[1;33m=\u001b[0m \u001b[0mbuiltins\u001b[0m\u001b[1;33m.\u001b[0m\u001b[0mopen\u001b[0m\u001b[1;33m(\u001b[0m\u001b[0mfilename\u001b[0m\u001b[1;33m,\u001b[0m \u001b[1;34m\"rb\"\u001b[0m\u001b[1;33m)\u001b[0m\u001b[1;33m\u001b[0m\u001b[0m\n\u001b[0m\u001b[0;32m   2549\u001b[0m         \u001b[0mexclusive_fp\u001b[0m \u001b[1;33m=\u001b[0m \u001b[1;32mTrue\u001b[0m\u001b[1;33m\u001b[0m\u001b[0m\n\u001b[0;32m   2550\u001b[0m \u001b[1;33m\u001b[0m\u001b[0m\n",
      "\u001b[1;31mFileNotFoundError\u001b[0m: [Errno 2] No such file or directory: 'surprise.jpg'"
     ]
    }
   ],
   "source": [
    "#Cropping image\n",
    "\n",
    "from PIL import Image\n",
    "import cv2\n",
    "import matplotlib.pyplot as plt\n",
    "from IPython.display import display\n",
    "\n",
    "img = Image.open(\"surprise.jpg\")\n",
    "face_cascade = cv2.CascadeClassifier('haarcascade_frontalface_default.xml')\n",
    "faces = face_cascade.detectMultiScale(np.asarray(img), 1.3, 5)\n",
    "for (x, y, w, h) in faces:\n",
    "  if len(faces) == 1: #Use simple check if one face is detected, or multiple (measurement error unless multiple persons on image)\n",
    "        crop_img = img.crop((x,y,x+w,y+h))\n",
    "  else:\n",
    "        print(\"multiple faces detected, passing over image\") \n",
    "display(crop_img)"
   ]
  },
  {
   "cell_type": "markdown",
   "metadata": {
    "colab_type": "text",
    "id": "tB3qbXrRcztm"
   },
   "source": [
    "#Resizing(acc. to model) and predicting results"
   ]
  },
  {
   "cell_type": "code",
   "execution_count": null,
   "metadata": {
    "colab": {
     "base_uri": "https://localhost:8080/",
     "height": 86
    },
    "colab_type": "code",
    "id": "sIFJO_5oInO4",
    "outputId": "5ba7fbf7-bdca-4bca-d54f-93e6975e6db8"
   },
   "outputs": [],
   "source": [
    "#Resizing image to required size and processing\n",
    "test_image = crop_img.resize((48,48),Image.ANTIALIAS)\n",
    "test_image = np.array(test_image)\n",
    "gray = cv2.cvtColor(test_image, cv2.COLOR_BGR2GRAY)\n",
    "\n",
    "#scale pixels values to lie between 0 and 1 because we did same to our train and test set\n",
    "gray = gray/255\n",
    "\n",
    "#reshaping image (-1 is used to automatically fit an integer at it's place to match dimension of original image)\n",
    "gray = gray.reshape(-1, 48, 48, 1)\n",
    "\n",
    "res = model2.predict(gray)\n",
    "\n",
    "#argmax returns index of max value\n",
    "result_num = np.argmax(res)\n",
    "\n",
    "print(\"Probabilities are \" + str(res[0])+\"\\n\")\n",
    "print(\"Emotion is \"+get_label(result_num))"
   ]
  },
  {
   "cell_type": "markdown",
   "metadata": {
    "colab_type": "text",
    "id": "dcraoWmna3_y"
   },
   "source": [
    "**Here the probabilities are as follows :**\n",
    "\n",
    "\n",
    "* 5.97965591e-05 - Angry\n",
    "* 4.58202198e-10 - Disgust\n",
    "* 6.04255088e-02 - Fear\n",
    "* 1.13449936e-07 - Happy\n",
    "* 1.21668990e-07 - Sad\n",
    "* 9.39514458e-01 - Surprise\n",
    "* 5.27196642e-09 - Neutral\n",
    "\n",
    "Since probability of being surprise is highest (0.93), emotion is **surprise** ."
   ]
  },
  {
   "cell_type": "markdown",
   "metadata": {
    "colab_type": "text",
    "id": "5eANsJ1XdTv8"
   },
   "source": [
    "#Loading pre-trained model\n",
    "\n",
    "*Here I'm using fer2013_mini_XCEPTION.110-0.65 model.*\n",
    "\n"
   ]
  },
  {
   "cell_type": "code",
   "execution_count": null,
   "metadata": {
    "colab": {},
    "colab_type": "code",
    "id": "tD0AT3bvbSVI"
   },
   "outputs": [],
   "source": [
    "from keras.models import load_model\n",
    "pretrained_model = load_model(\"fer2013_mini_XCEPTION.110-0.65.hdf5\")"
   ]
  },
  {
   "cell_type": "markdown",
   "metadata": {
    "colab_type": "text",
    "id": "wHyVMbwR3r3w"
   },
   "source": [
    "#Prediction using pre-trained model"
   ]
  },
  {
   "cell_type": "code",
   "execution_count": null,
   "metadata": {
    "colab": {
     "base_uri": "https://localhost:8080/",
     "height": 104
    },
    "colab_type": "code",
    "id": "74wtXaCi35ue",
    "outputId": "cd34ccaa-6f1f-4283-800a-19356cbcc27e"
   },
   "outputs": [],
   "source": [
    "#Resizing image to required size\n",
    "test_image = crop_img.resize((64,64),Image.ANTIALIAS)\n",
    "\n",
    "#Converting image to array\n",
    "test_image = np.array(test_image)\n",
    "\n",
    "#converting to grayscale\n",
    "gray = cv2.cvtColor(test_image, cv2.COLOR_BGR2GRAY)\n",
    "\n",
    "#scale pixels values to lie between 0 and 1 because we did same to our train and test set\n",
    "gray = gray/255\n",
    "\n",
    "#reshaping image (-1 is used to automatically fit an integer at it's place to match dimension of original image)\n",
    "gray = gray.reshape(-1, 64, 64, 1)\n",
    "\n",
    "res = pretrained_model.predict(gray)\n",
    "\n",
    "#argmax returns index of max value\n",
    "result_num = np.argmax(res[0])\n",
    "\n",
    "# print predictions\n",
    "print(\"\\nProbabilities are \" + str(res[0])+\"\\n\")\n",
    "print(\"Emotion is \"+ get_label(result_num))"
   ]
  },
  {
   "cell_type": "markdown",
   "metadata": {
    "colab_type": "text",
    "id": "WBUPfdrFa2QY"
   },
   "source": [
    "**Here the probabilities are as follows :**\n",
    "\n",
    "\n",
    "* 8.6809350e-03 - Angry\n",
    "* 5.2054395e-07 - Disgust\n",
    "* 2.3409252e-01 - Fear\n",
    "* 5.6617814e-06 - Happy\n",
    "* 8.5717841e-04 - Sad\n",
    "* 7.5634414e-01 - Surprise\n",
    "* 1.9050653e-05 - Neutral\n",
    "\n",
    "Since probability of being surprise is highest (0.75), emotion is **surprise** .\n",
    "\n",
    "***Our model is predicting better than this. Yay !***\n"
   ]
  },
  {
   "cell_type": "code",
   "execution_count": null,
   "metadata": {},
   "outputs": [],
   "source": []
  }
 ],
 "metadata": {
  "accelerator": "GPU",
  "colab": {
   "collapsed_sections": [],
   "name": "predict.ipynb",
   "provenance": [],
   "toc_visible": true,
   "version": "0.3.2"
  },
  "kernelspec": {
   "display_name": "Python 3",
   "language": "python",
   "name": "python3"
  },
  "language_info": {
   "codemirror_mode": {
    "name": "ipython",
    "version": 3
   },
   "file_extension": ".py",
   "mimetype": "text/x-python",
   "name": "python",
   "nbconvert_exporter": "python",
   "pygments_lexer": "ipython3",
   "version": "3.7.3"
  }
 },
 "nbformat": 4,
 "nbformat_minor": 1
}
